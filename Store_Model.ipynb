{
  "nbformat": 4,
  "nbformat_minor": 0,
  "metadata": {
    "colab": {
      "name": "Store-Model.ipynb",
      "version": "0.3.2",
      "provenance": [],
      "include_colab_link": true
    },
    "kernelspec": {
      "name": "python3",
      "display_name": "Python 3"
    }
  },
  "cells": [
    {
      "cell_type": "markdown",
      "metadata": {
        "id": "view-in-github",
        "colab_type": "text"
      },
      "source": [
        "<a href=\"https://colab.research.google.com/github/funabashi800/bandGapEstimation/blob/master/Store_Model.ipynb\" target=\"_parent\"><img src=\"https://colab.research.google.com/assets/colab-badge.svg\" alt=\"Open In Colab\"/></a>"
      ]
    },
    {
      "metadata": {
        "id": "Kt0puzdR-99V",
        "colab_type": "code",
        "colab": {}
      },
      "cell_type": "code",
      "source": [
        "# filter warnings messages from the notebook\n",
        "import warnings\n",
        "warnings.filterwarnings('ignore')\n",
        "\n",
        "%matplotlib inline\n",
        "import matplotlib.pyplot as plt\n",
        "import numpy as np\n",
        "import pandas as pd\n",
        "\n",
        "# Set pandas view options\n",
        "pd.set_option('display.width', 1000)\n",
        "pd.set_option('display.max_columns', None)\n",
        "pd.set_option('display.max_rows', None)"
      ],
      "execution_count": 0,
      "outputs": []
    },
    {
      "metadata": {
        "id": "Zy27Zs8a_aHS",
        "colab_type": "code",
        "colab": {
          "base_uri": "https://localhost:8080/",
          "height": 1896
        },
        "outputId": "15250bc1-1185-4c67-8984-b3fd88adb12b"
      },
      "cell_type": "code",
      "source": [
        "!pip install matminer"
      ],
      "execution_count": 3,
      "outputs": [
        {
          "output_type": "stream",
          "text": [
            "Collecting matminer\n",
            "\u001b[?25l  Downloading https://files.pythonhosted.org/packages/7a/ce/f20373cab5aa88de19f21e387395e0aed93d2f76900a475c0601dce4a7e7/matminer-0.4.3.tar.gz (4.1MB)\n",
            "\u001b[K    100% |████████████████████████████████| 4.1MB 3.8MB/s \n",
            "\u001b[?25hRequirement already satisfied: pymatgen>=2018.8.7 in /usr/local/lib/python3.6/dist-packages (from matminer) (2018.11.6)\n",
            "Requirement already satisfied: tqdm>=4.14.0 in /usr/local/lib/python3.6/dist-packages (from matminer) (4.28.1)\n",
            "Requirement already satisfied: pandas>=0.20.1 in /usr/local/lib/python3.6/dist-packages (from matminer) (0.22.0)\n",
            "Collecting pymongo>=3.4.0 (from matminer)\n",
            "\u001b[?25l  Downloading https://files.pythonhosted.org/packages/b1/45/5440555b901a8416196fbf2499c4678ef74de8080c007104107a8cfdda20/pymongo-3.7.2-cp36-cp36m-manylinux1_x86_64.whl (408kB)\n",
            "\u001b[K    100% |████████████████████████████████| 409kB 21.4MB/s \n",
            "\u001b[?25hCollecting pint>=0.8.1 (from matminer)\n",
            "\u001b[?25l  Downloading https://files.pythonhosted.org/packages/1e/40/6938f7d544eef208a8183c2c80624289e8a4f4e0aea43f4658b9527077de/Pint-0.8.1.tar.gz (162kB)\n",
            "\u001b[K    100% |████████████████████████████████| 163kB 17.6MB/s \n",
            "\u001b[?25hRequirement already satisfied: six>=1.10.0 in /usr/local/lib/python3.6/dist-packages (from matminer) (1.11.0)\n",
            "Collecting citrination-client>=4.0.0 (from matminer)\n",
            "\u001b[?25l  Downloading https://files.pythonhosted.org/packages/84/09/d08988a7cd7c01c8e1ac6c82dc003a00e2d4534f3811e1a5d421e32db991/citrination-client-4.4.2.tar.gz (42kB)\n",
            "\u001b[K    100% |████████████████████████████████| 51kB 17.5MB/s \n",
            "\u001b[?25hCollecting plotly>=3.2.1 (from matminer)\n",
            "\u001b[?25l  Downloading https://files.pythonhosted.org/packages/44/6d/8528b0518a6f4fbe88bdc450670326d29824f704fc16e5edb01d43dcc0a8/plotly-3.4.0-py2.py3-none-any.whl (37.8MB)\n",
            "\u001b[K    100% |████████████████████████████████| 37.8MB 730kB/s \n",
            "\u001b[?25hCollecting mdf_forge>=0.6.1 (from matminer)\n",
            "  Downloading https://files.pythonhosted.org/packages/7c/24/69831fdedece1a33515058155eff40da336b1a0306dad9eaa98058e56394/mdf_forge-0.6.4-py2.py3-none-any.whl\n",
            "Requirement already satisfied: scikit-learn>=0.19.0 in /usr/local/lib/python3.6/dist-packages (from matminer) (0.19.2)\n",
            "Requirement already satisfied: sympy>=1.1.1 in /usr/local/lib/python3.6/dist-packages (from matminer) (1.1.1)\n",
            "Requirement already satisfied: scipy>=1.0.1 in /usr/local/lib/python3.6/dist-packages (from pymatgen>=2018.8.7->matminer) (1.1.0)\n",
            "Requirement already satisfied: networkx>=2.1 in /usr/local/lib/python3.6/dist-packages (from pymatgen>=2018.8.7->matminer) (2.2)\n",
            "Requirement already satisfied: palettable>=2.1.1 in /usr/local/lib/python3.6/dist-packages (from pymatgen>=2018.8.7->matminer) (3.1.1)\n",
            "Requirement already satisfied: matplotlib>=1.5 in /usr/local/lib/python3.6/dist-packages (from pymatgen>=2018.8.7->matminer) (2.1.2)\n",
            "Requirement already satisfied: monty>=0.9.6 in /usr/local/lib/python3.6/dist-packages (from pymatgen>=2018.8.7->matminer) (1.0.3)\n",
            "Requirement already satisfied: requests in /usr/local/lib/python3.6/dist-packages (from pymatgen>=2018.8.7->matminer) (2.18.4)\n",
            "Requirement already satisfied: spglib>=1.9.9.44 in /usr/local/lib/python3.6/dist-packages (from pymatgen>=2018.8.7->matminer) (1.10.4.11)\n",
            "Requirement already satisfied: numpy>=1.14.3 in /usr/local/lib/python3.6/dist-packages (from pymatgen>=2018.8.7->matminer) (1.14.6)\n",
            "Requirement already satisfied: tabulate in /usr/local/lib/python3.6/dist-packages (from pymatgen>=2018.8.7->matminer) (0.8.2)\n",
            "Requirement already satisfied: ruamel.yaml>=0.15.6 in /usr/local/lib/python3.6/dist-packages (from pymatgen>=2018.8.7->matminer) (0.15.76)\n",
            "Requirement already satisfied: pydispatcher>=2.0.5 in /usr/local/lib/python3.6/dist-packages (from pymatgen>=2018.8.7->matminer) (2.0.5)\n",
            "Requirement already satisfied: pytz>=2011k in /usr/local/lib/python3.6/dist-packages (from pandas>=0.20.1->matminer) (2018.7)\n",
            "Requirement already satisfied: python-dateutil>=2 in /usr/local/lib/python3.6/dist-packages (from pandas>=0.20.1->matminer) (2.5.3)\n",
            "Collecting pypif (from citrination-client>=4.0.0->matminer)\n",
            "  Downloading https://files.pythonhosted.org/packages/e8/42/f09d4a04f71967978136a103404d326736ca9855a9d4da9e737a358aeb37/pypif-2.1.1.tar.gz\n",
            "Requirement already satisfied: pyyaml in /usr/local/lib/python3.6/dist-packages (from citrination-client>=4.0.0->matminer) (3.13)\n",
            "Requirement already satisfied: nbformat>=4.2 in /usr/local/lib/python3.6/dist-packages (from plotly>=3.2.1->matminer) (4.4.0)\n",
            "Requirement already satisfied: decorator>=4.0.6 in /usr/local/lib/python3.6/dist-packages (from plotly>=3.2.1->matminer) (4.3.0)\n",
            "Collecting retrying>=1.3.3 (from plotly>=3.2.1->matminer)\n",
            "  Downloading https://files.pythonhosted.org/packages/44/ef/beae4b4ef80902f22e3af073397f079c96969c69b2c7d52a57ea9ae61c9d/retrying-1.3.3.tar.gz\n",
            "Collecting globus-sdk>=1.5.0 (from mdf_forge>=0.6.1->matminer)\n",
            "\u001b[?25l  Downloading https://files.pythonhosted.org/packages/01/1e/30fc29a19e53e360be9b267d941699457906cce7693b85c083061a5e7651/globus_sdk-1.6.1-py2.py3-none-any.whl (73kB)\n",
            "\u001b[K    100% |████████████████████████████████| 81kB 23.3MB/s \n",
            "\u001b[?25hCollecting mdf-toolbox>=0.2.0 (from mdf_forge>=0.6.1->matminer)\n",
            "  Downloading https://files.pythonhosted.org/packages/d2/24/1067e72d387f7635f2690be69642c5c1886166a96b83162f8f49b00b68d5/mdf_toolbox-0.3.3-py2.py3-none-any.whl\n",
            "Requirement already satisfied: mpmath>=0.19 in /usr/local/lib/python3.6/dist-packages (from sympy>=1.1.1->matminer) (1.0.0)\n",
            "Requirement already satisfied: cycler>=0.10 in /usr/local/lib/python3.6/dist-packages (from matplotlib>=1.5->pymatgen>=2018.8.7->matminer) (0.10.0)\n",
            "Requirement already satisfied: pyparsing!=2.0.4,!=2.1.2,!=2.1.6,>=2.0.1 in /usr/local/lib/python3.6/dist-packages (from matplotlib>=1.5->pymatgen>=2018.8.7->matminer) (2.3.0)\n",
            "Requirement already satisfied: urllib3<1.23,>=1.21.1 in /usr/local/lib/python3.6/dist-packages (from requests->pymatgen>=2018.8.7->matminer) (1.22)\n",
            "Requirement already satisfied: certifi>=2017.4.17 in /usr/local/lib/python3.6/dist-packages (from requests->pymatgen>=2018.8.7->matminer) (2018.10.15)\n",
            "Requirement already satisfied: idna<2.7,>=2.5 in /usr/local/lib/python3.6/dist-packages (from requests->pymatgen>=2018.8.7->matminer) (2.6)\n",
            "Requirement already satisfied: chardet<3.1.0,>=3.0.2 in /usr/local/lib/python3.6/dist-packages (from requests->pymatgen>=2018.8.7->matminer) (3.0.4)\n",
            "Requirement already satisfied: traitlets>=4.1 in /usr/local/lib/python3.6/dist-packages (from nbformat>=4.2->plotly>=3.2.1->matminer) (4.3.2)\n",
            "Requirement already satisfied: jupyter-core in /usr/local/lib/python3.6/dist-packages (from nbformat>=4.2->plotly>=3.2.1->matminer) (4.4.0)\n",
            "Requirement already satisfied: ipython-genutils in /usr/local/lib/python3.6/dist-packages (from nbformat>=4.2->plotly>=3.2.1->matminer) (0.2.0)\n",
            "Requirement already satisfied: jsonschema!=2.5.0,>=2.4 in /usr/local/lib/python3.6/dist-packages (from nbformat>=4.2->plotly>=3.2.1->matminer) (2.6.0)\n",
            "Collecting pyjwt[crypto]<2.0.0,>=1.5.3 (from globus-sdk>=1.5.0->mdf_forge>=0.6.1->matminer)\n",
            "  Downloading https://files.pythonhosted.org/packages/93/d1/3378cc8184a6524dc92993090ee8b4c03847c567e298305d6cf86987e005/PyJWT-1.6.4-py2.py3-none-any.whl\n",
            "Collecting globus-nexus-client>=0.2.8 (from mdf-toolbox>=0.2.0->mdf_forge>=0.6.1->matminer)\n",
            "  Downloading https://files.pythonhosted.org/packages/d8/ea/cf065156bc5ffd2b57803ee414b4a720bac619e4ea49c6c9787dcff68ca9/globus-nexus-client-0.2.8.tar.gz\n",
            "Collecting cryptography>=1.4; extra == \"crypto\" (from pyjwt[crypto]<2.0.0,>=1.5.3->globus-sdk>=1.5.0->mdf_forge>=0.6.1->matminer)\n",
            "\u001b[?25l  Downloading https://files.pythonhosted.org/packages/59/32/92cade62c645756a83598edf56289e9b19aae5370642a7ce690cd06bc72f/cryptography-2.3.1-cp34-abi3-manylinux1_x86_64.whl (2.1MB)\n",
            "\u001b[K    100% |████████████████████████████████| 2.1MB 10.8MB/s \n",
            "\u001b[?25hCollecting asn1crypto>=0.21.0 (from cryptography>=1.4; extra == \"crypto\"->pyjwt[crypto]<2.0.0,>=1.5.3->globus-sdk>=1.5.0->mdf_forge>=0.6.1->matminer)\n",
            "\u001b[?25l  Downloading https://files.pythonhosted.org/packages/ea/cd/35485615f45f30a510576f1a56d1e0a7ad7bd8ab5ed7cdc600ef7cd06222/asn1crypto-0.24.0-py2.py3-none-any.whl (101kB)\n",
            "\u001b[K    100% |████████████████████████████████| 102kB 27.6MB/s \n",
            "\u001b[?25hCollecting cffi!=1.11.3,>=1.7 (from cryptography>=1.4; extra == \"crypto\"->pyjwt[crypto]<2.0.0,>=1.5.3->globus-sdk>=1.5.0->mdf_forge>=0.6.1->matminer)\n",
            "\u001b[?25l  Downloading https://files.pythonhosted.org/packages/6d/c0/47db8f624f3e4e2f3f27be03a93379d1ba16a1450a7b1aacfa0366e2c0dd/cffi-1.11.5-cp36-cp36m-manylinux1_x86_64.whl (421kB)\n",
            "\u001b[K    100% |████████████████████████████████| 430kB 23.9MB/s \n",
            "\u001b[?25hCollecting pycparser (from cffi!=1.11.3,>=1.7->cryptography>=1.4; extra == \"crypto\"->pyjwt[crypto]<2.0.0,>=1.5.3->globus-sdk>=1.5.0->mdf_forge>=0.6.1->matminer)\n",
            "\u001b[?25l  Downloading https://files.pythonhosted.org/packages/68/9e/49196946aee219aead1290e00d1e7fdeab8567783e83e1b9ab5585e6206a/pycparser-2.19.tar.gz (158kB)\n",
            "\u001b[K    100% |████████████████████████████████| 163kB 30.5MB/s \n",
            "\u001b[?25hBuilding wheels for collected packages: matminer, pint, citrination-client, pypif, retrying, globus-nexus-client, pycparser\n",
            "  Running setup.py bdist_wheel for matminer ... \u001b[?25l-\b \b\\\b \b|\b \bdone\n",
            "\u001b[?25h  Stored in directory: /root/.cache/pip/wheels/97/a0/c2/71d4e628101b82e394836c909a0cd3ebce4bd18436c3210e4e\n",
            "  Running setup.py bdist_wheel for pint ... \u001b[?25l-\b \b\\\b \bdone\n",
            "\u001b[?25h  Stored in directory: /root/.cache/pip/wheels/b4/56/36/7c4d6a4e3660e233b95e3b0482551915cb184abca0f93ee1dd\n",
            "  Running setup.py bdist_wheel for citrination-client ... \u001b[?25l-\b \b\\\b \bdone\n",
            "\u001b[?25h  Stored in directory: /root/.cache/pip/wheels/36/61/57/b43d1cf665fcc74852d0ef137adc39b62188fb9a30c60365ea\n",
            "  Running setup.py bdist_wheel for pypif ... \u001b[?25l-\b \b\\\b \bdone\n",
            "\u001b[?25h  Stored in directory: /root/.cache/pip/wheels/8c/01/93/f50194d9631d9c937f7a9e0212fab7078e69ac3326c1ac5787\n",
            "  Running setup.py bdist_wheel for retrying ... \u001b[?25l-\b \bdone\n",
            "\u001b[?25h  Stored in directory: /root/.cache/pip/wheels/d7/a9/33/acc7b709e2a35caa7d4cae442f6fe6fbf2c43f80823d46460c\n",
            "  Running setup.py bdist_wheel for globus-nexus-client ... \u001b[?25l-\b \bdone\n",
            "\u001b[?25h  Stored in directory: /root/.cache/pip/wheels/eb/dc/a7/997791f89b4be286c9acfcaf0770147e8e32d4b60e7d334641\n",
            "  Running setup.py bdist_wheel for pycparser ... \u001b[?25l-\b \b\\\b \bdone\n",
            "\u001b[?25h  Stored in directory: /root/.cache/pip/wheels/f2/9a/90/de94f8556265ddc9d9c8b271b0f63e57b26fb1d67a45564511\n",
            "Successfully built matminer pint citrination-client pypif retrying globus-nexus-client pycparser\n",
            "Installing collected packages: pymongo, pint, pypif, citrination-client, retrying, plotly, asn1crypto, pycparser, cffi, cryptography, pyjwt, globus-sdk, globus-nexus-client, mdf-toolbox, mdf-forge, matminer\n",
            "  Found existing installation: plotly 1.12.12\n",
            "    Uninstalling plotly-1.12.12:\n",
            "      Successfully uninstalled plotly-1.12.12\n",
            "Successfully installed asn1crypto-0.24.0 cffi-1.11.5 citrination-client-4.4.2 cryptography-2.3.1 globus-nexus-client-0.2.8 globus-sdk-1.6.1 matminer-0.4.3 mdf-forge-0.6.4 mdf-toolbox-0.3.3 pint-0.8.1 plotly-3.4.0 pycparser-2.19 pyjwt-1.6.4 pymongo-3.7.2 pypif-2.1.1 retrying-1.3.3\n"
          ],
          "name": "stdout"
        }
      ]
    },
    {
      "metadata": {
        "id": "liyQor7D_OuE",
        "colab_type": "code",
        "colab": {
          "base_uri": "https://localhost:8080/",
          "height": 36
        },
        "outputId": "ae03d7b6-86d0-4ad3-9f43-75fdcaa38b72"
      },
      "cell_type": "code",
      "source": [
        "from matminer.data_retrieval.retrieve_MP import MPDataRetrieval\n",
        "\n",
        "api_key = \"2vg9wZLez5OM6HFn\"  # Set your MP API key here. If set as an environment variable 'MAPI_KEY', set it to 'None'\n",
        "mpr = MPDataRetrieval(api_key)     # Create an adapter to the MP Database.\n",
        "\n",
        "# criteria is to get all binary compounds\n",
        "criteria = {'nelements': 2}\n",
        "\n",
        "# properties are the materials attributes we want\n",
        "# See https://github.com/materialsproject/mapidoc for available properties you can specify\n",
        "properties = ['pretty_formula', 'spacegroup.symbol', 'formation_energy_per_atom', 'band_gap', 'e_above_hull', \n",
        "              'density', 'volume', 'nsites']\n",
        "\n",
        "# get the data!\n",
        "df_mp = mpr.get_dataframe(criteria=criteria, properties=properties)\n",
        "print('Number of binary compounds extracted = {}'.format(len(df_mp)))"
      ],
      "execution_count": 32,
      "outputs": [
        {
          "output_type": "stream",
          "text": [
            "Number of binary compounds extracted = 13832\n"
          ],
          "name": "stdout"
        }
      ]
    },
    {
      "metadata": {
        "id": "h2wurHvk_VsJ",
        "colab_type": "code",
        "colab": {
          "base_uri": "https://localhost:8080/",
          "height": 36
        },
        "outputId": "86ba1593-3b6f-4a04-8fcb-19d2e657f4f4"
      },
      "cell_type": "code",
      "source": [
        "insb = mpr.get_dataframe(criteria={'pretty_formula': 'InSb'}, properties=properties)\n",
        "print('Number of binary compounds extracted = {}'.format(len(insb)))"
      ],
      "execution_count": 5,
      "outputs": [
        {
          "output_type": "stream",
          "text": [
            "Number of binary compounds extracted = 9\n"
          ],
          "name": "stdout"
        }
      ]
    },
    {
      "metadata": {
        "id": "ti3n4LER_qON",
        "colab_type": "code",
        "colab": {
          "base_uri": "https://localhost:8080/",
          "height": 258
        },
        "outputId": "dab3fcef-3889-415a-a36a-1bebc5567eb3"
      },
      "cell_type": "code",
      "source": [
        "df_mp.head()"
      ],
      "execution_count": 6,
      "outputs": [
        {
          "output_type": "execute_result",
          "data": {
            "text/html": [
              "<div>\n",
              "<style scoped>\n",
              "    .dataframe tbody tr th:only-of-type {\n",
              "        vertical-align: middle;\n",
              "    }\n",
              "\n",
              "    .dataframe tbody tr th {\n",
              "        vertical-align: top;\n",
              "    }\n",
              "\n",
              "    .dataframe thead th {\n",
              "        text-align: right;\n",
              "    }\n",
              "</style>\n",
              "<table border=\"1\" class=\"dataframe\">\n",
              "  <thead>\n",
              "    <tr style=\"text-align: right;\">\n",
              "      <th></th>\n",
              "      <th>pretty_formula</th>\n",
              "      <th>spacegroup.symbol</th>\n",
              "      <th>formation_energy_per_atom</th>\n",
              "      <th>band_gap</th>\n",
              "      <th>e_above_hull</th>\n",
              "      <th>density</th>\n",
              "      <th>volume</th>\n",
              "      <th>nsites</th>\n",
              "    </tr>\n",
              "    <tr>\n",
              "      <th>material_id</th>\n",
              "      <th></th>\n",
              "      <th></th>\n",
              "      <th></th>\n",
              "      <th></th>\n",
              "      <th></th>\n",
              "      <th></th>\n",
              "      <th></th>\n",
              "      <th></th>\n",
              "    </tr>\n",
              "  </thead>\n",
              "  <tbody>\n",
              "    <tr>\n",
              "      <th>mp-865950</th>\n",
              "      <td>AcAg3</td>\n",
              "      <td>P6_3/mmc</td>\n",
              "      <td>-0.206854</td>\n",
              "      <td>0.0000</td>\n",
              "      <td>0.0</td>\n",
              "      <td>8.930827</td>\n",
              "      <td>204.751583</td>\n",
              "      <td>8</td>\n",
              "    </tr>\n",
              "    <tr>\n",
              "      <th>mp-866199</th>\n",
              "      <td>AcAg</td>\n",
              "      <td>Pm-3m</td>\n",
              "      <td>-0.268366</td>\n",
              "      <td>0.0000</td>\n",
              "      <td>0.0</td>\n",
              "      <td>8.859009</td>\n",
              "      <td>62.767941</td>\n",
              "      <td>2</td>\n",
              "    </tr>\n",
              "    <tr>\n",
              "      <th>mp-862617</th>\n",
              "      <td>AcAl3</td>\n",
              "      <td>P6_3/mmc</td>\n",
              "      <td>-0.368426</td>\n",
              "      <td>0.0000</td>\n",
              "      <td>0.0</td>\n",
              "      <td>5.243536</td>\n",
              "      <td>195.041675</td>\n",
              "      <td>8</td>\n",
              "    </tr>\n",
              "    <tr>\n",
              "      <th>mp-867838</th>\n",
              "      <td>AcAu3</td>\n",
              "      <td>P6_3/mmc</td>\n",
              "      <td>-0.693050</td>\n",
              "      <td>0.0000</td>\n",
              "      <td>0.0</td>\n",
              "      <td>13.755798</td>\n",
              "      <td>197.466462</td>\n",
              "      <td>8</td>\n",
              "    </tr>\n",
              "    <tr>\n",
              "      <th>mp-27972</th>\n",
              "      <td>AcBr3</td>\n",
              "      <td>P6_3/m</td>\n",
              "      <td>-2.103586</td>\n",
              "      <td>4.1045</td>\n",
              "      <td>0.0</td>\n",
              "      <td>5.570195</td>\n",
              "      <td>278.264428</td>\n",
              "      <td>8</td>\n",
              "    </tr>\n",
              "  </tbody>\n",
              "</table>\n",
              "</div>"
            ],
            "text/plain": [
              "            pretty_formula spacegroup.symbol  formation_energy_per_atom  band_gap  e_above_hull    density      volume  nsites\n",
              "material_id                                                                                                                   \n",
              "mp-865950            AcAg3          P6_3/mmc                  -0.206854    0.0000           0.0   8.930827  204.751583       8\n",
              "mp-866199             AcAg             Pm-3m                  -0.268366    0.0000           0.0   8.859009   62.767941       2\n",
              "mp-862617            AcAl3          P6_3/mmc                  -0.368426    0.0000           0.0   5.243536  195.041675       8\n",
              "mp-867838            AcAu3          P6_3/mmc                  -0.693050    0.0000           0.0  13.755798  197.466462       8\n",
              "mp-27972             AcBr3            P6_3/m                  -2.103586    4.1045           0.0   5.570195  278.264428       8"
            ]
          },
          "metadata": {
            "tags": []
          },
          "execution_count": 6
        }
      ]
    },
    {
      "metadata": {
        "id": "Tc2u7few_tkd",
        "colab_type": "code",
        "colab": {
          "base_uri": "https://localhost:8080/",
          "height": 383
        },
        "outputId": "e215fdfb-dbcc-4f22-aa5b-bb0ddbf8afda"
      },
      "cell_type": "code",
      "source": [
        "# Originaly all of the data of band gap in the database is zero!\n",
        "insb"
      ],
      "execution_count": 7,
      "outputs": [
        {
          "output_type": "execute_result",
          "data": {
            "text/html": [
              "<div>\n",
              "<style scoped>\n",
              "    .dataframe tbody tr th:only-of-type {\n",
              "        vertical-align: middle;\n",
              "    }\n",
              "\n",
              "    .dataframe tbody tr th {\n",
              "        vertical-align: top;\n",
              "    }\n",
              "\n",
              "    .dataframe thead th {\n",
              "        text-align: right;\n",
              "    }\n",
              "</style>\n",
              "<table border=\"1\" class=\"dataframe\">\n",
              "  <thead>\n",
              "    <tr style=\"text-align: right;\">\n",
              "      <th></th>\n",
              "      <th>pretty_formula</th>\n",
              "      <th>spacegroup.symbol</th>\n",
              "      <th>formation_energy_per_atom</th>\n",
              "      <th>band_gap</th>\n",
              "      <th>e_above_hull</th>\n",
              "      <th>density</th>\n",
              "      <th>volume</th>\n",
              "      <th>nsites</th>\n",
              "    </tr>\n",
              "    <tr>\n",
              "      <th>material_id</th>\n",
              "      <th></th>\n",
              "      <th></th>\n",
              "      <th></th>\n",
              "      <th></th>\n",
              "      <th></th>\n",
              "      <th></th>\n",
              "      <th></th>\n",
              "      <th></th>\n",
              "    </tr>\n",
              "  </thead>\n",
              "  <tbody>\n",
              "    <tr>\n",
              "      <th>mp-684597</th>\n",
              "      <td>InSb</td>\n",
              "      <td>Imm2</td>\n",
              "      <td>0.007750</td>\n",
              "      <td>0.0</td>\n",
              "      <td>0.134845</td>\n",
              "      <td>6.896150</td>\n",
              "      <td>56.966136</td>\n",
              "      <td>2</td>\n",
              "    </tr>\n",
              "    <tr>\n",
              "      <th>mp-569020</th>\n",
              "      <td>InSb</td>\n",
              "      <td>Pmmn</td>\n",
              "      <td>0.009746</td>\n",
              "      <td>0.0</td>\n",
              "      <td>0.136842</td>\n",
              "      <td>6.935338</td>\n",
              "      <td>113.288489</td>\n",
              "      <td>4</td>\n",
              "    </tr>\n",
              "    <tr>\n",
              "      <th>mp-20012</th>\n",
              "      <td>InSb</td>\n",
              "      <td>F-43m</td>\n",
              "      <td>-0.127096</td>\n",
              "      <td>0.0</td>\n",
              "      <td>0.000000</td>\n",
              "      <td>5.384060</td>\n",
              "      <td>72.964821</td>\n",
              "      <td>2</td>\n",
              "    </tr>\n",
              "    <tr>\n",
              "      <th>mp-1007661</th>\n",
              "      <td>InSb</td>\n",
              "      <td>P6_3mc</td>\n",
              "      <td>-0.115320</td>\n",
              "      <td>0.0</td>\n",
              "      <td>0.011776</td>\n",
              "      <td>5.369502</td>\n",
              "      <td>146.325303</td>\n",
              "      <td>4</td>\n",
              "    </tr>\n",
              "    <tr>\n",
              "      <th>mp-10148</th>\n",
              "      <td>InSb</td>\n",
              "      <td>Pm-3m</td>\n",
              "      <td>0.110811</td>\n",
              "      <td>0.0</td>\n",
              "      <td>0.237906</td>\n",
              "      <td>7.116261</td>\n",
              "      <td>55.204131</td>\n",
              "      <td>2</td>\n",
              "    </tr>\n",
              "    <tr>\n",
              "      <th>mp-19744</th>\n",
              "      <td>InSb</td>\n",
              "      <td>Pmm2</td>\n",
              "      <td>0.065197</td>\n",
              "      <td>0.0</td>\n",
              "      <td>0.192293</td>\n",
              "      <td>6.693283</td>\n",
              "      <td>58.692722</td>\n",
              "      <td>2</td>\n",
              "    </tr>\n",
              "    <tr>\n",
              "      <th>mp-21210</th>\n",
              "      <td>InSb</td>\n",
              "      <td>Cmcm</td>\n",
              "      <td>0.022714</td>\n",
              "      <td>0.0</td>\n",
              "      <td>0.149810</td>\n",
              "      <td>6.792776</td>\n",
              "      <td>115.666110</td>\n",
              "      <td>4</td>\n",
              "    </tr>\n",
              "    <tr>\n",
              "      <th>mp-20253</th>\n",
              "      <td>InSb</td>\n",
              "      <td>Cmcm</td>\n",
              "      <td>-0.006128</td>\n",
              "      <td>0.0</td>\n",
              "      <td>0.120968</td>\n",
              "      <td>6.771521</td>\n",
              "      <td>348.087529</td>\n",
              "      <td>12</td>\n",
              "    </tr>\n",
              "    <tr>\n",
              "      <th>mp-10149</th>\n",
              "      <td>InSb</td>\n",
              "      <td>Fm-3m</td>\n",
              "      <td>0.020779</td>\n",
              "      <td>0.0</td>\n",
              "      <td>0.147875</td>\n",
              "      <td>6.765321</td>\n",
              "      <td>58.067758</td>\n",
              "      <td>2</td>\n",
              "    </tr>\n",
              "  </tbody>\n",
              "</table>\n",
              "</div>"
            ],
            "text/plain": [
              "            pretty_formula spacegroup.symbol  formation_energy_per_atom  band_gap  e_above_hull   density      volume  nsites\n",
              "material_id                                                                                                                  \n",
              "mp-684597             InSb              Imm2                   0.007750       0.0      0.134845  6.896150   56.966136       2\n",
              "mp-569020             InSb              Pmmn                   0.009746       0.0      0.136842  6.935338  113.288489       4\n",
              "mp-20012              InSb             F-43m                  -0.127096       0.0      0.000000  5.384060   72.964821       2\n",
              "mp-1007661            InSb            P6_3mc                  -0.115320       0.0      0.011776  5.369502  146.325303       4\n",
              "mp-10148              InSb             Pm-3m                   0.110811       0.0      0.237906  7.116261   55.204131       2\n",
              "mp-19744              InSb              Pmm2                   0.065197       0.0      0.192293  6.693283   58.692722       2\n",
              "mp-21210              InSb              Cmcm                   0.022714       0.0      0.149810  6.792776  115.666110       4\n",
              "mp-20253              InSb              Cmcm                  -0.006128       0.0      0.120968  6.771521  348.087529      12\n",
              "mp-10149              InSb             Fm-3m                   0.020779       0.0      0.147875  6.765321   58.067758       2"
            ]
          },
          "metadata": {
            "tags": []
          },
          "execution_count": 7
        }
      ]
    },
    {
      "metadata": {
        "id": "YEnzlxgS_vdh",
        "colab_type": "code",
        "colab": {}
      },
      "cell_type": "code",
      "source": [
        "df_mp = df_mp[df_mp['e_above_hull'] < 0.1]\n",
        "insb = insb[insb['e_above_hull'] < 0.1 ]"
      ],
      "execution_count": 0,
      "outputs": []
    },
    {
      "metadata": {
        "id": "EHm0BwU0_xre",
        "colab_type": "code",
        "colab": {
          "base_uri": "https://localhost:8080/",
          "height": 320
        },
        "outputId": "e18e9341-848e-477f-afdb-63d320366cad"
      },
      "cell_type": "code",
      "source": [
        "df_mp.describe()"
      ],
      "execution_count": 21,
      "outputs": [
        {
          "output_type": "execute_result",
          "data": {
            "text/html": [
              "<div>\n",
              "<style scoped>\n",
              "    .dataframe tbody tr th:only-of-type {\n",
              "        vertical-align: middle;\n",
              "    }\n",
              "\n",
              "    .dataframe tbody tr th {\n",
              "        vertical-align: top;\n",
              "    }\n",
              "\n",
              "    .dataframe thead th {\n",
              "        text-align: right;\n",
              "    }\n",
              "</style>\n",
              "<table border=\"1\" class=\"dataframe\">\n",
              "  <thead>\n",
              "    <tr style=\"text-align: right;\">\n",
              "      <th></th>\n",
              "      <th>formation_energy_per_atom</th>\n",
              "      <th>band_gap</th>\n",
              "      <th>e_above_hull</th>\n",
              "      <th>density</th>\n",
              "      <th>volume</th>\n",
              "      <th>nsites</th>\n",
              "      <th>vpa</th>\n",
              "    </tr>\n",
              "  </thead>\n",
              "  <tbody>\n",
              "    <tr>\n",
              "      <th>count</th>\n",
              "      <td>9418.000000</td>\n",
              "      <td>9418.000000</td>\n",
              "      <td>9418.000000</td>\n",
              "      <td>9418.000000</td>\n",
              "      <td>9418.000000</td>\n",
              "      <td>9418.000000</td>\n",
              "      <td>9418.000000</td>\n",
              "    </tr>\n",
              "    <tr>\n",
              "      <th>mean</th>\n",
              "      <td>-0.778199</td>\n",
              "      <td>0.647874</td>\n",
              "      <td>0.016442</td>\n",
              "      <td>6.786125</td>\n",
              "      <td>361.477718</td>\n",
              "      <td>15.806328</td>\n",
              "      <td>23.990775</td>\n",
              "    </tr>\n",
              "    <tr>\n",
              "      <th>std</th>\n",
              "      <td>0.917393</td>\n",
              "      <td>1.394880</td>\n",
              "      <td>0.025991</td>\n",
              "      <td>3.575119</td>\n",
              "      <td>528.826338</td>\n",
              "      <td>21.274754</td>\n",
              "      <td>13.918948</td>\n",
              "    </tr>\n",
              "    <tr>\n",
              "      <th>min</th>\n",
              "      <td>-4.522664</td>\n",
              "      <td>0.000000</td>\n",
              "      <td>0.000000</td>\n",
              "      <td>0.222775</td>\n",
              "      <td>11.917209</td>\n",
              "      <td>2.000000</td>\n",
              "      <td>5.769662</td>\n",
              "    </tr>\n",
              "    <tr>\n",
              "      <th>25%</th>\n",
              "      <td>-0.980044</td>\n",
              "      <td>0.000000</td>\n",
              "      <td>0.000000</td>\n",
              "      <td>4.079698</td>\n",
              "      <td>98.954309</td>\n",
              "      <td>4.000000</td>\n",
              "      <td>15.450866</td>\n",
              "    </tr>\n",
              "    <tr>\n",
              "      <th>50%</th>\n",
              "      <td>-0.441272</td>\n",
              "      <td>0.000000</td>\n",
              "      <td>0.000236</td>\n",
              "      <td>6.371439</td>\n",
              "      <td>191.015831</td>\n",
              "      <td>8.000000</td>\n",
              "      <td>20.936737</td>\n",
              "    </tr>\n",
              "    <tr>\n",
              "      <th>75%</th>\n",
              "      <td>-0.168540</td>\n",
              "      <td>0.461875</td>\n",
              "      <td>0.023858</td>\n",
              "      <td>8.717774</td>\n",
              "      <td>384.010732</td>\n",
              "      <td>16.000000</td>\n",
              "      <td>28.571308</td>\n",
              "    </tr>\n",
              "    <tr>\n",
              "      <th>max</th>\n",
              "      <td>0.099969</td>\n",
              "      <td>9.061200</td>\n",
              "      <td>0.099988</td>\n",
              "      <td>21.676369</td>\n",
              "      <td>6897.599713</td>\n",
              "      <td>192.000000</td>\n",
              "      <td>393.349951</td>\n",
              "    </tr>\n",
              "  </tbody>\n",
              "</table>\n",
              "</div>"
            ],
            "text/plain": [
              "       formation_energy_per_atom     band_gap  e_above_hull      density       volume       nsites          vpa\n",
              "count                9418.000000  9418.000000   9418.000000  9418.000000  9418.000000  9418.000000  9418.000000\n",
              "mean                   -0.778199     0.647874      0.016442     6.786125   361.477718    15.806328    23.990775\n",
              "std                     0.917393     1.394880      0.025991     3.575119   528.826338    21.274754    13.918948\n",
              "min                    -4.522664     0.000000      0.000000     0.222775    11.917209     2.000000     5.769662\n",
              "25%                    -0.980044     0.000000      0.000000     4.079698    98.954309     4.000000    15.450866\n",
              "50%                    -0.441272     0.000000      0.000236     6.371439   191.015831     8.000000    20.936737\n",
              "75%                    -0.168540     0.461875      0.023858     8.717774   384.010732    16.000000    28.571308\n",
              "max                     0.099969     9.061200      0.099988    21.676369  6897.599713   192.000000   393.349951"
            ]
          },
          "metadata": {
            "tags": []
          },
          "execution_count": 21
        }
      ]
    },
    {
      "metadata": {
        "id": "kKsEVfJd_5cA",
        "colab_type": "code",
        "colab": {
          "base_uri": "https://localhost:8080/",
          "height": 320
        },
        "outputId": "672b1806-0f03-42e2-b147-523d7be35129"
      },
      "cell_type": "code",
      "source": [
        "insb.describe()"
      ],
      "execution_count": 22,
      "outputs": [
        {
          "output_type": "execute_result",
          "data": {
            "text/html": [
              "<div>\n",
              "<style scoped>\n",
              "    .dataframe tbody tr th:only-of-type {\n",
              "        vertical-align: middle;\n",
              "    }\n",
              "\n",
              "    .dataframe tbody tr th {\n",
              "        vertical-align: top;\n",
              "    }\n",
              "\n",
              "    .dataframe thead th {\n",
              "        text-align: right;\n",
              "    }\n",
              "</style>\n",
              "<table border=\"1\" class=\"dataframe\">\n",
              "  <thead>\n",
              "    <tr style=\"text-align: right;\">\n",
              "      <th></th>\n",
              "      <th>formation_energy_per_atom</th>\n",
              "      <th>band_gap</th>\n",
              "      <th>e_above_hull</th>\n",
              "      <th>density</th>\n",
              "      <th>volume</th>\n",
              "      <th>nsites</th>\n",
              "      <th>vpa</th>\n",
              "    </tr>\n",
              "  </thead>\n",
              "  <tbody>\n",
              "    <tr>\n",
              "      <th>count</th>\n",
              "      <td>2.000000</td>\n",
              "      <td>2.0</td>\n",
              "      <td>2.000000</td>\n",
              "      <td>2.000000</td>\n",
              "      <td>2.000000</td>\n",
              "      <td>2.000000</td>\n",
              "      <td>2.000000</td>\n",
              "    </tr>\n",
              "    <tr>\n",
              "      <th>mean</th>\n",
              "      <td>-0.121208</td>\n",
              "      <td>0.0</td>\n",
              "      <td>0.005888</td>\n",
              "      <td>5.376781</td>\n",
              "      <td>109.645062</td>\n",
              "      <td>3.000000</td>\n",
              "      <td>36.531868</td>\n",
              "    </tr>\n",
              "    <tr>\n",
              "      <th>std</th>\n",
              "      <td>0.008327</td>\n",
              "      <td>0.0</td>\n",
              "      <td>0.008327</td>\n",
              "      <td>0.010294</td>\n",
              "      <td>51.873694</td>\n",
              "      <td>1.414214</td>\n",
              "      <td>0.069944</td>\n",
              "    </tr>\n",
              "    <tr>\n",
              "      <th>min</th>\n",
              "      <td>-0.127096</td>\n",
              "      <td>0.0</td>\n",
              "      <td>0.000000</td>\n",
              "      <td>5.369502</td>\n",
              "      <td>72.964821</td>\n",
              "      <td>2.000000</td>\n",
              "      <td>36.482411</td>\n",
              "    </tr>\n",
              "    <tr>\n",
              "      <th>25%</th>\n",
              "      <td>-0.124152</td>\n",
              "      <td>0.0</td>\n",
              "      <td>0.002944</td>\n",
              "      <td>5.373142</td>\n",
              "      <td>91.304942</td>\n",
              "      <td>2.500000</td>\n",
              "      <td>36.507139</td>\n",
              "    </tr>\n",
              "    <tr>\n",
              "      <th>50%</th>\n",
              "      <td>-0.121208</td>\n",
              "      <td>0.0</td>\n",
              "      <td>0.005888</td>\n",
              "      <td>5.376781</td>\n",
              "      <td>109.645062</td>\n",
              "      <td>3.000000</td>\n",
              "      <td>36.531868</td>\n",
              "    </tr>\n",
              "    <tr>\n",
              "      <th>75%</th>\n",
              "      <td>-0.118264</td>\n",
              "      <td>0.0</td>\n",
              "      <td>0.008832</td>\n",
              "      <td>5.380421</td>\n",
              "      <td>127.985183</td>\n",
              "      <td>3.500000</td>\n",
              "      <td>36.556597</td>\n",
              "    </tr>\n",
              "    <tr>\n",
              "      <th>max</th>\n",
              "      <td>-0.115320</td>\n",
              "      <td>0.0</td>\n",
              "      <td>0.011776</td>\n",
              "      <td>5.384060</td>\n",
              "      <td>146.325303</td>\n",
              "      <td>4.000000</td>\n",
              "      <td>36.581326</td>\n",
              "    </tr>\n",
              "  </tbody>\n",
              "</table>\n",
              "</div>"
            ],
            "text/plain": [
              "       formation_energy_per_atom  band_gap  e_above_hull   density      volume    nsites        vpa\n",
              "count                   2.000000       2.0      2.000000  2.000000    2.000000  2.000000   2.000000\n",
              "mean                   -0.121208       0.0      0.005888  5.376781  109.645062  3.000000  36.531868\n",
              "std                     0.008327       0.0      0.008327  0.010294   51.873694  1.414214   0.069944\n",
              "min                    -0.127096       0.0      0.000000  5.369502   72.964821  2.000000  36.482411\n",
              "25%                    -0.124152       0.0      0.002944  5.373142   91.304942  2.500000  36.507139\n",
              "50%                    -0.121208       0.0      0.005888  5.376781  109.645062  3.000000  36.531868\n",
              "75%                    -0.118264       0.0      0.008832  5.380421  127.985183  3.500000  36.556597\n",
              "max                    -0.115320       0.0      0.011776  5.384060  146.325303  4.000000  36.581326"
            ]
          },
          "metadata": {
            "tags": []
          },
          "execution_count": 22
        }
      ]
    },
    {
      "metadata": {
        "id": "xET02Mnu_8jU",
        "colab_type": "code",
        "colab": {}
      },
      "cell_type": "code",
      "source": [
        "# add volume per atom descriptor\n",
        "df_mp['vpa'] = df_mp['volume']/df_mp['nsites']\n",
        "insb['vpa'] = insb['volume']/insb['nsites']"
      ],
      "execution_count": 0,
      "outputs": []
    },
    {
      "metadata": {
        "id": "jbCJDcsB__5P",
        "colab_type": "code",
        "colab": {
          "base_uri": "https://localhost:8080/",
          "height": 36
        },
        "outputId": "2721c5d1-9446-4396-d433-90c0158be6d8"
      },
      "cell_type": "code",
      "source": [
        "# target output column\n",
        "y = df_mp['band_gap'].values\n",
        "\n",
        "# possible descriptor columns\n",
        "X_cols = [c for c in df_mp.columns \n",
        "          if c not in ['band_gap', 'pretty_formula', \n",
        "                       'volume', 'nsites', 'spacegroup.symbol', 'e_above_hull']]\n",
        "X = df_mp.as_matrix(X_cols)\n",
        "\n",
        "print(\"Possible descriptors are: {}\".format(X_cols))"
      ],
      "execution_count": 24,
      "outputs": [
        {
          "output_type": "stream",
          "text": [
            "Possible descriptors are: ['formation_energy_per_atom', 'density', 'vpa']\n"
          ],
          "name": "stdout"
        }
      ]
    },
    {
      "metadata": {
        "id": "L8UVUR6MABlf",
        "colab_type": "code",
        "colab": {
          "base_uri": "https://localhost:8080/",
          "height": 36
        },
        "outputId": "72592505-4075-422e-f7cd-7357a91ed2e3"
      },
      "cell_type": "code",
      "source": [
        "# possible descriptor columns in InSb\n",
        "X_cols_insb = [c for c in df_mp.columns \n",
        "          if c not in ['band_gap', 'pretty_formula', \n",
        "                       'volume', 'nsites', 'spacegroup.symbol', 'e_above_hull']]\n",
        "X_insb = insb.as_matrix(X_cols_insb)\n",
        "\n",
        "print(\"Possible descriptors are: {}\".format(X_cols_insb))"
      ],
      "execution_count": 25,
      "outputs": [
        {
          "output_type": "stream",
          "text": [
            "Possible descriptors are: ['formation_energy_per_atom', 'density', 'vpa']\n"
          ],
          "name": "stdout"
        }
      ]
    },
    {
      "metadata": {
        "id": "wI_K__TJADjq",
        "colab_type": "code",
        "colab": {
          "base_uri": "https://localhost:8080/",
          "height": 56
        },
        "outputId": "8629cf8a-388d-42c3-86b5-8e608ecae108"
      },
      "cell_type": "code",
      "source": [
        "from sklearn.linear_model import LinearRegression\n",
        "from sklearn.metrics import mean_squared_error\n",
        "\n",
        "linear_regression = LinearRegression()\n",
        "\n",
        "linear_regression.fit(X, y)\n",
        "\n",
        "# get fit statistics\n",
        "print ('R2 = ' + str(round(linear_regression.score(X, y), 3)))\n",
        "print ('RMSE = %.3f' % np.sqrt(mean_squared_error(y_true=y, y_pred=linear_regression.predict(X))))"
      ],
      "execution_count": 26,
      "outputs": [
        {
          "output_type": "stream",
          "text": [
            "R2 = 0.472\n",
            "RMSE = 1.013\n"
          ],
          "name": "stdout"
        }
      ]
    },
    {
      "metadata": {
        "id": "945kiuirAGbO",
        "colab_type": "code",
        "colab": {
          "base_uri": "https://localhost:8080/",
          "height": 313
        },
        "outputId": "dadc619e-fcc6-421c-87ce-38a5817329cf"
      },
      "cell_type": "code",
      "source": [
        "fig = plt.figure()\n",
        "ax = fig.add_subplot(1,1,1)\n",
        "line1 = ax.plot(y,linear_regression.predict(X), \"r.\")\n",
        "line2 = ax.plot([0,1,2,3,4,5,6,7,8,9], \"b\")\n",
        "ax.set_xlabel('DFT band gap')\n",
        "ax.set_ylabel('Random forest band gap (eV)')\n",
        "ax.set_title('Random forest regression')"
      ],
      "execution_count": 27,
      "outputs": [
        {
          "output_type": "execute_result",
          "data": {
            "text/plain": [
              "Text(0.5,1,'Random forest regression')"
            ]
          },
          "metadata": {
            "tags": []
          },
          "execution_count": 27
        },
        {
          "output_type": "display_data",
          "data": {
            "image/png": "[encoded data removed]",
            "text/plain": [
              "<matplotlib.figure.Figure at 0x7f291525e7f0>"
            ]
          },
          "metadata": {
            "tags": []
          }
        }
      ]
    },
    {
      "metadata": {
        "id": "cMEugTmAAJaD",
        "colab_type": "code",
        "colab": {
          "base_uri": "https://localhost:8080/",
          "height": 56
        },
        "outputId": "fc108273-3ce3-4305-95f9-5cc603673b1c"
      },
      "cell_type": "code",
      "source": [
        "from sklearn.ensemble import RandomForestRegressor\n",
        "\n",
        "RF_rg = RandomForestRegressor(n_estimators=50, random_state=1)\n",
        "\n",
        "RF_rg.fit(X, y)\n",
        "print ('R2 = ' + str(round(RF_rg.score(X, y), 3)))\n",
        "print ('RMSE = %.3f' % np.sqrt(mean_squared_error(y_true=y, y_pred=RF_rg.predict(X))))"
      ],
      "execution_count": 28,
      "outputs": [
        {
          "output_type": "stream",
          "text": [
            "R2 = 0.974\n",
            "RMSE = 0.226\n"
          ],
          "name": "stdout"
        }
      ]
    },
    {
      "metadata": {
        "id": "d_WFY2njANg8",
        "colab_type": "code",
        "colab": {
          "base_uri": "https://localhost:8080/",
          "height": 313
        },
        "outputId": "0fbae43f-63e5-4018-e91e-57b6dd98f41a"
      },
      "cell_type": "code",
      "source": [
        "fig = plt.figure()\n",
        "ax = fig.add_subplot(1,1,1)\n",
        "line1 = ax.plot(y, RF_rg.predict(X), \"r.\")\n",
        "line2 = ax.plot([0,1,2,3,4,5,6,7,8,9], \"b\")\n",
        "ax.set_xlabel('DFT band gap')\n",
        "ax.set_ylabel('Random forest band gap (eV)')\n",
        "ax.set_title('Random forest regression')"
      ],
      "execution_count": 29,
      "outputs": [
        {
          "output_type": "execute_result",
          "data": {
            "text/plain": [
              "Text(0.5,1,'Random forest regression')"
            ]
          },
          "metadata": {
            "tags": []
          },
          "execution_count": 29
        },
        {
          "output_type": "display_data",
          "data": {
            "image/png": "[encoded data removed]",
            "text/plain": [
              "<matplotlib.figure.Figure at 0x7f291525e320>"
            ]
          },
          "metadata": {
            "tags": []
          }
        }
      ]
    },
    {
      "metadata": {
        "id": "NXMlS2LfBHYO",
        "colab_type": "code",
        "colab": {
          "base_uri": "https://localhost:8080/",
          "height": 153
        },
        "outputId": "12d87d95-f057-4d5b-a4d9-065bd42d7d42"
      },
      "cell_type": "code",
      "source": [
        "from sklearn.cross_validation import KFold, cross_val_score\n",
        "\n",
        "# Use 10-fold cross validation (90% training, 10% test)\n",
        "crossvalidation = KFold(n=X.shape[0], n_folds=10, shuffle=True, random_state=1)\n",
        "\n",
        "# compute cross validation scores for random forest model\n",
        "scores = cross_val_score(linear_regression, X, y, scoring='neg_mean_squared_error', \n",
        "                         cv=crossvalidation, n_jobs=1)\n",
        "rmse_scores = [np.sqrt(abs(s)) for s in scores]\n",
        "\n",
        "print ('Cross-validation results:')\n",
        "print ('Folds: %i, mean RMSE: %.3f' % (len(scores), np.mean(np.abs(rmse_scores))))"
      ],
      "execution_count": 30,
      "outputs": [
        {
          "output_type": "stream",
          "text": [
            "Cross-validation results:\n",
            "Folds: 10, mean RMSE: 1.013\n"
          ],
          "name": "stdout"
        },
        {
          "output_type": "stream",
          "text": [
            "/usr/local/lib/python3.6/dist-packages/sklearn/cross_validation.py:41: DeprecationWarning:\n",
            "\n",
            "This module was deprecated in version 0.18 in favor of the model_selection module into which all the refactored classes and functions are moved. Also note that the interface of the new CV iterators are different from that of this module. This module will be removed in 0.20.\n",
            "\n"
          ],
          "name": "stderr"
        }
      ]
    },
    {
      "metadata": {
        "id": "DpLNWyV1AQZQ",
        "colab_type": "code",
        "colab": {
          "base_uri": "https://localhost:8080/",
          "height": 36
        },
        "outputId": "f935a322-2589-4280-e615-9201e654a171"
      },
      "cell_type": "code",
      "source": [
        "# Prediction Result of Band Gap in InSb\n",
        "print(\"Expected Band Gap of InSb is : {} eV\".format(RF_rg.predict(X_insb)))"
      ],
      "execution_count": 31,
      "outputs": [
        {
          "output_type": "stream",
          "text": [
            "Expected Band Gap of InSb is : [0.08716 0.04867] eV\n"
          ],
          "name": "stdout"
        }
      ]
    },
    {
      "metadata": {
        "id": "5vO3frw1AYGR",
        "colab_type": "code",
        "colab": {
          "base_uri": "https://localhost:8080/",
          "height": 36
        },
        "outputId": "aad53496-73f0-4c4e-b95b-0f631c0a9110"
      },
      "cell_type": "code",
      "source": [
        "from sklearn.externals import joblib\n",
        "joblib.dump(RF_rg, 'svc.pkl.cmp', compress=True)"
      ],
      "execution_count": 34,
      "outputs": [
        {
          "output_type": "execute_result",
          "data": {
            "text/plain": [
              "['svc.pkl.cmp']"
            ]
          },
          "metadata": {
            "tags": []
          },
          "execution_count": 34
        }
      ]
    },
    {
      "metadata": {
        "id": "Pr7bwyvRB4s1",
        "colab_type": "code",
        "colab": {}
      },
      "cell_type": "code",
      "source": [
        "from pydrive.auth import GoogleAuth\n",
        "from pydrive.drive import GoogleDrive\n",
        "from google.colab import auth\n",
        "from oauth2client.client import GoogleCredentials\n",
        "\n",
        "auth.authenticate_user()\n",
        "gauth = GoogleAuth()\n",
        "gauth.credentials = GoogleCredentials.get_application_default()\n",
        "drive = GoogleDrive(gauth)\n",
        "upload_file = drive.CreateFile()\n",
        "upload_file.SetContentFile(\"svc.pkl.cmp\")\n",
        "upload_file.Upload()"
      ],
      "execution_count": 0,
      "outputs": []
    },
    {
      "metadata": {
        "id": "wmQwaz_tDG4G",
        "colab_type": "code",
        "colab": {}
      },
      "cell_type": "code",
      "source": [
        ""
      ],
      "execution_count": 0,
      "outputs": []
    }
  ]
}