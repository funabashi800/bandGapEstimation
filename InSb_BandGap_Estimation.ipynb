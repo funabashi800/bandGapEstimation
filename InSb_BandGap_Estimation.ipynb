{
  "nbformat": 4,
  "nbformat_minor": 0,
  "metadata": {
    "colab": {
      "name": "InSb-BandGap-Estimation.ipynb",
      "version": "0.3.2",
      "provenance": [],
      "include_colab_link": true
    },
    "kernelspec": {
      "name": "python3",
      "display_name": "Python 3"
    }
  },
  "cells": [
    {
      "cell_type": "markdown",
      "metadata": {
        "id": "view-in-github",
        "colab_type": "text"
      },
      "source": [
        "<a href=\"https://colab.research.google.com/github/funabashi800/bandGapEstimation/blob/master/InSb_BandGap_Estimation.ipynb\" target=\"_parent\"><img src=\"https://colab.research.google.com/assets/colab-badge.svg\" alt=\"Open In Colab\"/></a>"
      ]
    },
    {
      "metadata": {
        "id": "J_qmiHyO0mkl",
        "colab_type": "code",
        "colab": {}
      },
      "cell_type": "code",
      "source": [
        "# filter warnings messages from the notebook\n",
        "import warnings\n",
        "warnings.filterwarnings('ignore')\n",
        "\n",
        "%matplotlib inline\n",
        "import matplotlib.pyplot as plt\n",
        "import numpy as np\n",
        "import pandas as pd\n",
        "\n",
        "# Set pandas view options\n",
        "pd.set_option('display.width', 1000)\n",
        "pd.set_option('display.max_columns', None)\n",
        "pd.set_option('display.max_rows', None)"
      ],
      "execution_count": 0,
      "outputs": []
    },
    {
      "metadata": {
        "id": "2m4LfaF702VB",
        "colab_type": "code",
        "colab": {
          "base_uri": "https://localhost:8080/",
          "height": 36
        },
        "outputId": "79882bc7-b3e4-402c-ca64-f343031f5261"
      },
      "cell_type": "code",
      "source": [
        "from matminer.data_retrieval.retrieve_MP import MPDataRetrieval\n",
        "\n",
        "api_key = \"My API Key\"  # Set your MP API key here. If set as an environment variable 'MAPI_KEY', set it to 'None'\n",
        "mpr = MPDataRetrieval(api_key)     # Create an adapter to the MP Database.\n",
        "\n",
        "# criteria is to get all binary compounds\n",
        "criteria = {'nelements': 2}\n",
        "\n",
        "# properties are the materials attributes we want\n",
        "# See https://github.com/materialsproject/mapidoc for available properties you can specify\n",
        "properties = ['pretty_formula', 'spacegroup.symbol', 'formation_energy_per_atom', 'band_gap', 'e_above_hull', \n",
        "              'density', 'volume', 'nsites']\n",
        "\n",
        "# get the data!\n",
        "df_mp = mpr.get_dataframe(criteria=criteria, properties=properties)\n",
        "print('Number of binary compounds extracted = {}'.format(len(df_mp)))"
      ],
      "execution_count": 3,
      "outputs": [
        {
          "output_type": "stream",
          "text": [
            "Number of binary compounds extracted = 13860\n"
          ],
          "name": "stdout"
        }
      ]
    },
    {
      "metadata": {
        "id": "yB5Zrq-407Ty",
        "colab_type": "code",
        "colab": {
          "base_uri": "https://localhost:8080/",
          "height": 36
        },
        "outputId": "7e1b7ca0-d361-4602-8bb3-f1f36c6fb3c3"
      },
      "cell_type": "code",
      "source": [
        "insb = mpr.get_dataframe(criteria={'pretty_formula': 'InSb'}, properties=properties)\n",
        "print('Number of binary compounds extracted = {}'.format(len(insb)))"
      ],
      "execution_count": 38,
      "outputs": [
        {
          "output_type": "stream",
          "text": [
            "Number of binary compounds extracted = 9\n"
          ],
          "name": "stdout"
        }
      ]
    },
    {
      "metadata": {
        "id": "N7GMPQr21ZV6",
        "colab_type": "code",
        "colab": {
          "base_uri": "https://localhost:8080/",
          "height": 238
        },
        "outputId": "f82c34d4-cf41-4b8c-b6f3-f0ea3cc6814d"
      },
      "cell_type": "code",
      "source": [
        "df_mp.head()"
      ],
      "execution_count": 6,
      "outputs": [
        {
          "output_type": "execute_result",
          "data": {
            "text/html": [
              "<div>\n",
              "<style scoped>\n",
              "    .dataframe tbody tr th:only-of-type {\n",
              "        vertical-align: middle;\n",
              "    }\n",
              "\n",
              "    .dataframe tbody tr th {\n",
              "        vertical-align: top;\n",
              "    }\n",
              "\n",
              "    .dataframe thead th {\n",
              "        text-align: right;\n",
              "    }\n",
              "</style>\n",
              "<table border=\"1\" class=\"dataframe\">\n",
              "  <thead>\n",
              "    <tr style=\"text-align: right;\">\n",
              "      <th></th>\n",
              "      <th>pretty_formula</th>\n",
              "      <th>spacegroup.symbol</th>\n",
              "      <th>formation_energy_per_atom</th>\n",
              "      <th>band_gap</th>\n",
              "      <th>e_above_hull</th>\n",
              "      <th>density</th>\n",
              "      <th>volume</th>\n",
              "      <th>nsites</th>\n",
              "    </tr>\n",
              "    <tr>\n",
              "      <th>material_id</th>\n",
              "      <th></th>\n",
              "      <th></th>\n",
              "      <th></th>\n",
              "      <th></th>\n",
              "      <th></th>\n",
              "      <th></th>\n",
              "      <th></th>\n",
              "      <th></th>\n",
              "    </tr>\n",
              "  </thead>\n",
              "  <tbody>\n",
              "    <tr>\n",
              "      <th>mp-865950</th>\n",
              "      <td>AcAg3</td>\n",
              "      <td>P6_3/mmc</td>\n",
              "      <td>-0.206854</td>\n",
              "      <td>0.0000</td>\n",
              "      <td>0.0</td>\n",
              "      <td>8.930827</td>\n",
              "      <td>204.751583</td>\n",
              "      <td>8</td>\n",
              "    </tr>\n",
              "    <tr>\n",
              "      <th>mp-866199</th>\n",
              "      <td>AcAg</td>\n",
              "      <td>Pm-3m</td>\n",
              "      <td>-0.268366</td>\n",
              "      <td>0.0000</td>\n",
              "      <td>0.0</td>\n",
              "      <td>8.859009</td>\n",
              "      <td>62.767941</td>\n",
              "      <td>2</td>\n",
              "    </tr>\n",
              "    <tr>\n",
              "      <th>mp-862617</th>\n",
              "      <td>AcAl3</td>\n",
              "      <td>P6_3/mmc</td>\n",
              "      <td>-0.368426</td>\n",
              "      <td>0.0000</td>\n",
              "      <td>0.0</td>\n",
              "      <td>5.243536</td>\n",
              "      <td>195.041675</td>\n",
              "      <td>8</td>\n",
              "    </tr>\n",
              "    <tr>\n",
              "      <th>mp-867838</th>\n",
              "      <td>AcAu3</td>\n",
              "      <td>P6_3/mmc</td>\n",
              "      <td>-0.693050</td>\n",
              "      <td>0.0000</td>\n",
              "      <td>0.0</td>\n",
              "      <td>13.755798</td>\n",
              "      <td>197.466462</td>\n",
              "      <td>8</td>\n",
              "    </tr>\n",
              "    <tr>\n",
              "      <th>mp-27972</th>\n",
              "      <td>AcBr3</td>\n",
              "      <td>P6_3/m</td>\n",
              "      <td>-2.103586</td>\n",
              "      <td>4.1045</td>\n",
              "      <td>0.0</td>\n",
              "      <td>5.570195</td>\n",
              "      <td>278.264428</td>\n",
              "      <td>8</td>\n",
              "    </tr>\n",
              "  </tbody>\n",
              "</table>\n",
              "</div>"
            ],
            "text/plain": [
              "            pretty_formula spacegroup.symbol  formation_energy_per_atom  band_gap  e_above_hull    density      volume  nsites\n",
              "material_id                                                                                                                   \n",
              "mp-865950            AcAg3          P6_3/mmc                  -0.206854    0.0000           0.0   8.930827  204.751583       8\n",
              "mp-866199             AcAg             Pm-3m                  -0.268366    0.0000           0.0   8.859009   62.767941       2\n",
              "mp-862617            AcAl3          P6_3/mmc                  -0.368426    0.0000           0.0   5.243536  195.041675       8\n",
              "mp-867838            AcAu3          P6_3/mmc                  -0.693050    0.0000           0.0  13.755798  197.466462       8\n",
              "mp-27972             AcBr3            P6_3/m                  -2.103586    4.1045           0.0   5.570195  278.264428       8"
            ]
          },
          "metadata": {
            "tags": []
          },
          "execution_count": 6
        }
      ]
    },
    {
      "metadata": {
        "id": "cTgVZiag1f1z",
        "colab_type": "code",
        "colab": {
          "base_uri": "https://localhost:8080/",
          "height": 363
        },
        "outputId": "342bce6d-57a7-47e6-e688-a79857f9eaf4"
      },
      "cell_type": "code",
      "source": [
        "# Originaly all of the data of band gap in the database is zero!\n",
        "insb"
      ],
      "execution_count": 39,
      "outputs": [
        {
          "output_type": "execute_result",
          "data": {
            "text/html": [
              "<div>\n",
              "<style scoped>\n",
              "    .dataframe tbody tr th:only-of-type {\n",
              "        vertical-align: middle;\n",
              "    }\n",
              "\n",
              "    .dataframe tbody tr th {\n",
              "        vertical-align: top;\n",
              "    }\n",
              "\n",
              "    .dataframe thead th {\n",
              "        text-align: right;\n",
              "    }\n",
              "</style>\n",
              "<table border=\"1\" class=\"dataframe\">\n",
              "  <thead>\n",
              "    <tr style=\"text-align: right;\">\n",
              "      <th></th>\n",
              "      <th>pretty_formula</th>\n",
              "      <th>spacegroup.symbol</th>\n",
              "      <th>formation_energy_per_atom</th>\n",
              "      <th>band_gap</th>\n",
              "      <th>e_above_hull</th>\n",
              "      <th>density</th>\n",
              "      <th>volume</th>\n",
              "      <th>nsites</th>\n",
              "    </tr>\n",
              "    <tr>\n",
              "      <th>material_id</th>\n",
              "      <th></th>\n",
              "      <th></th>\n",
              "      <th></th>\n",
              "      <th></th>\n",
              "      <th></th>\n",
              "      <th></th>\n",
              "      <th></th>\n",
              "      <th></th>\n",
              "    </tr>\n",
              "  </thead>\n",
              "  <tbody>\n",
              "    <tr>\n",
              "      <th>mp-684597</th>\n",
              "      <td>InSb</td>\n",
              "      <td>Imm2</td>\n",
              "      <td>0.007750</td>\n",
              "      <td>0.0</td>\n",
              "      <td>0.134845</td>\n",
              "      <td>6.896150</td>\n",
              "      <td>56.966136</td>\n",
              "      <td>2</td>\n",
              "    </tr>\n",
              "    <tr>\n",
              "      <th>mp-569020</th>\n",
              "      <td>InSb</td>\n",
              "      <td>Pmmn</td>\n",
              "      <td>0.009746</td>\n",
              "      <td>0.0</td>\n",
              "      <td>0.136842</td>\n",
              "      <td>6.935338</td>\n",
              "      <td>113.288489</td>\n",
              "      <td>4</td>\n",
              "    </tr>\n",
              "    <tr>\n",
              "      <th>mp-20012</th>\n",
              "      <td>InSb</td>\n",
              "      <td>F-43m</td>\n",
              "      <td>-0.127096</td>\n",
              "      <td>0.0</td>\n",
              "      <td>0.000000</td>\n",
              "      <td>5.384060</td>\n",
              "      <td>72.964821</td>\n",
              "      <td>2</td>\n",
              "    </tr>\n",
              "    <tr>\n",
              "      <th>mp-1007661</th>\n",
              "      <td>InSb</td>\n",
              "      <td>P6_3mc</td>\n",
              "      <td>-0.115320</td>\n",
              "      <td>0.0</td>\n",
              "      <td>0.011776</td>\n",
              "      <td>5.369502</td>\n",
              "      <td>146.325303</td>\n",
              "      <td>4</td>\n",
              "    </tr>\n",
              "    <tr>\n",
              "      <th>mp-10148</th>\n",
              "      <td>InSb</td>\n",
              "      <td>Pm-3m</td>\n",
              "      <td>0.110811</td>\n",
              "      <td>0.0</td>\n",
              "      <td>0.237906</td>\n",
              "      <td>7.116261</td>\n",
              "      <td>55.204131</td>\n",
              "      <td>2</td>\n",
              "    </tr>\n",
              "    <tr>\n",
              "      <th>mp-10149</th>\n",
              "      <td>InSb</td>\n",
              "      <td>Fm-3m</td>\n",
              "      <td>0.020779</td>\n",
              "      <td>0.0</td>\n",
              "      <td>0.147875</td>\n",
              "      <td>6.765321</td>\n",
              "      <td>58.067758</td>\n",
              "      <td>2</td>\n",
              "    </tr>\n",
              "    <tr>\n",
              "      <th>mp-19744</th>\n",
              "      <td>InSb</td>\n",
              "      <td>Pmm2</td>\n",
              "      <td>0.065197</td>\n",
              "      <td>0.0</td>\n",
              "      <td>0.192293</td>\n",
              "      <td>6.693283</td>\n",
              "      <td>58.692722</td>\n",
              "      <td>2</td>\n",
              "    </tr>\n",
              "    <tr>\n",
              "      <th>mp-21210</th>\n",
              "      <td>InSb</td>\n",
              "      <td>Cmcm</td>\n",
              "      <td>0.022714</td>\n",
              "      <td>0.0</td>\n",
              "      <td>0.149810</td>\n",
              "      <td>6.792776</td>\n",
              "      <td>115.666110</td>\n",
              "      <td>4</td>\n",
              "    </tr>\n",
              "    <tr>\n",
              "      <th>mp-20253</th>\n",
              "      <td>InSb</td>\n",
              "      <td>Cmcm</td>\n",
              "      <td>-0.006128</td>\n",
              "      <td>0.0</td>\n",
              "      <td>0.120968</td>\n",
              "      <td>6.771521</td>\n",
              "      <td>348.087529</td>\n",
              "      <td>12</td>\n",
              "    </tr>\n",
              "  </tbody>\n",
              "</table>\n",
              "</div>"
            ],
            "text/plain": [
              "            pretty_formula spacegroup.symbol  formation_energy_per_atom  band_gap  e_above_hull   density      volume  nsites\n",
              "material_id                                                                                                                  \n",
              "mp-684597             InSb              Imm2                   0.007750       0.0      0.134845  6.896150   56.966136       2\n",
              "mp-569020             InSb              Pmmn                   0.009746       0.0      0.136842  6.935338  113.288489       4\n",
              "mp-20012              InSb             F-43m                  -0.127096       0.0      0.000000  5.384060   72.964821       2\n",
              "mp-1007661            InSb            P6_3mc                  -0.115320       0.0      0.011776  5.369502  146.325303       4\n",
              "mp-10148              InSb             Pm-3m                   0.110811       0.0      0.237906  7.116261   55.204131       2\n",
              "mp-10149              InSb             Fm-3m                   0.020779       0.0      0.147875  6.765321   58.067758       2\n",
              "mp-19744              InSb              Pmm2                   0.065197       0.0      0.192293  6.693283   58.692722       2\n",
              "mp-21210              InSb              Cmcm                   0.022714       0.0      0.149810  6.792776  115.666110       4\n",
              "mp-20253              InSb              Cmcm                  -0.006128       0.0      0.120968  6.771521  348.087529      12"
            ]
          },
          "metadata": {
            "tags": []
          },
          "execution_count": 39
        }
      ]
    },
    {
      "metadata": {
        "id": "MtRqrdmd1i81",
        "colab_type": "code",
        "colab": {}
      },
      "cell_type": "code",
      "source": [
        "df_mp = df_mp[df_mp['e_above_hull'] < 0.1]\n",
        "insb = insb[insb['e_above_hull'] < 0.1 ]"
      ],
      "execution_count": 0,
      "outputs": []
    },
    {
      "metadata": {
        "id": "CxAGfxEQ1rf5",
        "colab_type": "code",
        "colab": {
          "base_uri": "https://localhost:8080/",
          "height": 300
        },
        "outputId": "47f3be93-d353-4aa0-912c-0a4682c8edb2"
      },
      "cell_type": "code",
      "source": [
        "df_mp.describe()"
      ],
      "execution_count": 10,
      "outputs": [
        {
          "output_type": "execute_result",
          "data": {
            "text/html": [
              "<div>\n",
              "<style scoped>\n",
              "    .dataframe tbody tr th:only-of-type {\n",
              "        vertical-align: middle;\n",
              "    }\n",
              "\n",
              "    .dataframe tbody tr th {\n",
              "        vertical-align: top;\n",
              "    }\n",
              "\n",
              "    .dataframe thead th {\n",
              "        text-align: right;\n",
              "    }\n",
              "</style>\n",
              "<table border=\"1\" class=\"dataframe\">\n",
              "  <thead>\n",
              "    <tr style=\"text-align: right;\">\n",
              "      <th></th>\n",
              "      <th>formation_energy_per_atom</th>\n",
              "      <th>band_gap</th>\n",
              "      <th>e_above_hull</th>\n",
              "      <th>density</th>\n",
              "      <th>volume</th>\n",
              "      <th>nsites</th>\n",
              "    </tr>\n",
              "  </thead>\n",
              "  <tbody>\n",
              "    <tr>\n",
              "      <th>count</th>\n",
              "      <td>9466.000000</td>\n",
              "      <td>9466.000000</td>\n",
              "      <td>9466.000000</td>\n",
              "      <td>9466.000000</td>\n",
              "      <td>9466.000000</td>\n",
              "      <td>9466.000000</td>\n",
              "    </tr>\n",
              "    <tr>\n",
              "      <th>mean</th>\n",
              "      <td>-0.789770</td>\n",
              "      <td>0.656388</td>\n",
              "      <td>0.016517</td>\n",
              "      <td>6.735374</td>\n",
              "      <td>353.815080</td>\n",
              "      <td>16.202197</td>\n",
              "    </tr>\n",
              "    <tr>\n",
              "      <th>std</th>\n",
              "      <td>0.924913</td>\n",
              "      <td>1.393007</td>\n",
              "      <td>0.026054</td>\n",
              "      <td>3.544205</td>\n",
              "      <td>529.972765</td>\n",
              "      <td>22.339041</td>\n",
              "    </tr>\n",
              "    <tr>\n",
              "      <th>min</th>\n",
              "      <td>-4.522664</td>\n",
              "      <td>0.000000</td>\n",
              "      <td>0.000000</td>\n",
              "      <td>0.222775</td>\n",
              "      <td>11.917209</td>\n",
              "      <td>2.000000</td>\n",
              "    </tr>\n",
              "    <tr>\n",
              "      <th>25%</th>\n",
              "      <td>-1.020084</td>\n",
              "      <td>0.000000</td>\n",
              "      <td>0.000000</td>\n",
              "      <td>4.066123</td>\n",
              "      <td>92.376327</td>\n",
              "      <td>4.000000</td>\n",
              "    </tr>\n",
              "    <tr>\n",
              "      <th>50%</th>\n",
              "      <td>-0.448040</td>\n",
              "      <td>0.000000</td>\n",
              "      <td>0.000469</td>\n",
              "      <td>6.309683</td>\n",
              "      <td>175.963398</td>\n",
              "      <td>8.000000</td>\n",
              "    </tr>\n",
              "    <tr>\n",
              "      <th>75%</th>\n",
              "      <td>-0.169640</td>\n",
              "      <td>0.515575</td>\n",
              "      <td>0.023895</td>\n",
              "      <td>8.631621</td>\n",
              "      <td>373.343771</td>\n",
              "      <td>17.000000</td>\n",
              "    </tr>\n",
              "    <tr>\n",
              "      <th>max</th>\n",
              "      <td>0.099969</td>\n",
              "      <td>9.061200</td>\n",
              "      <td>0.099988</td>\n",
              "      <td>21.676369</td>\n",
              "      <td>6897.599713</td>\n",
              "      <td>196.000000</td>\n",
              "    </tr>\n",
              "  </tbody>\n",
              "</table>\n",
              "</div>"
            ],
            "text/plain": [
              "       formation_energy_per_atom     band_gap  e_above_hull      density       volume       nsites\n",
              "count                9466.000000  9466.000000   9466.000000  9466.000000  9466.000000  9466.000000\n",
              "mean                   -0.789770     0.656388      0.016517     6.735374   353.815080    16.202197\n",
              "std                     0.924913     1.393007      0.026054     3.544205   529.972765    22.339041\n",
              "min                    -4.522664     0.000000      0.000000     0.222775    11.917209     2.000000\n",
              "25%                    -1.020084     0.000000      0.000000     4.066123    92.376327     4.000000\n",
              "50%                    -0.448040     0.000000      0.000469     6.309683   175.963398     8.000000\n",
              "75%                    -0.169640     0.515575      0.023895     8.631621   373.343771    17.000000\n",
              "max                     0.099969     9.061200      0.099988    21.676369  6897.599713   196.000000"
            ]
          },
          "metadata": {
            "tags": []
          },
          "execution_count": 10
        }
      ]
    },
    {
      "metadata": {
        "id": "7OjyA93I1yxv",
        "colab_type": "code",
        "colab": {
          "base_uri": "https://localhost:8080/",
          "height": 300
        },
        "outputId": "263c02a0-89da-4f13-f1b6-f1124f56d292"
      },
      "cell_type": "code",
      "source": [
        "insb.describe()"
      ],
      "execution_count": 11,
      "outputs": [
        {
          "output_type": "execute_result",
          "data": {
            "text/html": [
              "<div>\n",
              "<style scoped>\n",
              "    .dataframe tbody tr th:only-of-type {\n",
              "        vertical-align: middle;\n",
              "    }\n",
              "\n",
              "    .dataframe tbody tr th {\n",
              "        vertical-align: top;\n",
              "    }\n",
              "\n",
              "    .dataframe thead th {\n",
              "        text-align: right;\n",
              "    }\n",
              "</style>\n",
              "<table border=\"1\" class=\"dataframe\">\n",
              "  <thead>\n",
              "    <tr style=\"text-align: right;\">\n",
              "      <th></th>\n",
              "      <th>formation_energy_per_atom</th>\n",
              "      <th>band_gap</th>\n",
              "      <th>e_above_hull</th>\n",
              "      <th>density</th>\n",
              "      <th>volume</th>\n",
              "      <th>nsites</th>\n",
              "    </tr>\n",
              "  </thead>\n",
              "  <tbody>\n",
              "    <tr>\n",
              "      <th>count</th>\n",
              "      <td>2.000000</td>\n",
              "      <td>2.0</td>\n",
              "      <td>2.000000</td>\n",
              "      <td>2.000000</td>\n",
              "      <td>2.000000</td>\n",
              "      <td>2.000000</td>\n",
              "    </tr>\n",
              "    <tr>\n",
              "      <th>mean</th>\n",
              "      <td>-0.121208</td>\n",
              "      <td>0.0</td>\n",
              "      <td>0.005888</td>\n",
              "      <td>5.376781</td>\n",
              "      <td>109.645062</td>\n",
              "      <td>3.000000</td>\n",
              "    </tr>\n",
              "    <tr>\n",
              "      <th>std</th>\n",
              "      <td>0.008327</td>\n",
              "      <td>0.0</td>\n",
              "      <td>0.008327</td>\n",
              "      <td>0.010294</td>\n",
              "      <td>51.873694</td>\n",
              "      <td>1.414214</td>\n",
              "    </tr>\n",
              "    <tr>\n",
              "      <th>min</th>\n",
              "      <td>-0.127096</td>\n",
              "      <td>0.0</td>\n",
              "      <td>0.000000</td>\n",
              "      <td>5.369502</td>\n",
              "      <td>72.964821</td>\n",
              "      <td>2.000000</td>\n",
              "    </tr>\n",
              "    <tr>\n",
              "      <th>25%</th>\n",
              "      <td>-0.124152</td>\n",
              "      <td>0.0</td>\n",
              "      <td>0.002944</td>\n",
              "      <td>5.373142</td>\n",
              "      <td>91.304942</td>\n",
              "      <td>2.500000</td>\n",
              "    </tr>\n",
              "    <tr>\n",
              "      <th>50%</th>\n",
              "      <td>-0.121208</td>\n",
              "      <td>0.0</td>\n",
              "      <td>0.005888</td>\n",
              "      <td>5.376781</td>\n",
              "      <td>109.645062</td>\n",
              "      <td>3.000000</td>\n",
              "    </tr>\n",
              "    <tr>\n",
              "      <th>75%</th>\n",
              "      <td>-0.118264</td>\n",
              "      <td>0.0</td>\n",
              "      <td>0.008832</td>\n",
              "      <td>5.380421</td>\n",
              "      <td>127.985183</td>\n",
              "      <td>3.500000</td>\n",
              "    </tr>\n",
              "    <tr>\n",
              "      <th>max</th>\n",
              "      <td>-0.115320</td>\n",
              "      <td>0.0</td>\n",
              "      <td>0.011776</td>\n",
              "      <td>5.384060</td>\n",
              "      <td>146.325303</td>\n",
              "      <td>4.000000</td>\n",
              "    </tr>\n",
              "  </tbody>\n",
              "</table>\n",
              "</div>"
            ],
            "text/plain": [
              "       formation_energy_per_atom  band_gap  e_above_hull   density      volume    nsites\n",
              "count                   2.000000       2.0      2.000000  2.000000    2.000000  2.000000\n",
              "mean                   -0.121208       0.0      0.005888  5.376781  109.645062  3.000000\n",
              "std                     0.008327       0.0      0.008327  0.010294   51.873694  1.414214\n",
              "min                    -0.127096       0.0      0.000000  5.369502   72.964821  2.000000\n",
              "25%                    -0.124152       0.0      0.002944  5.373142   91.304942  2.500000\n",
              "50%                    -0.121208       0.0      0.005888  5.376781  109.645062  3.000000\n",
              "75%                    -0.118264       0.0      0.008832  5.380421  127.985183  3.500000\n",
              "max                    -0.115320       0.0      0.011776  5.384060  146.325303  4.000000"
            ]
          },
          "metadata": {
            "tags": []
          },
          "execution_count": 11
        }
      ]
    },
    {
      "metadata": {
        "id": "E9Ktmhxq11hp",
        "colab_type": "code",
        "colab": {}
      },
      "cell_type": "code",
      "source": [
        "# add volume per atom descriptor\n",
        "df_mp['vpa'] = df_mp['volume']/df_mp['nsites']\n",
        "insb['vpa'] = insb['volume']/insb['nsites']"
      ],
      "execution_count": 0,
      "outputs": []
    },
    {
      "metadata": {
        "id": "ih2ujzLT1_Lm",
        "colab_type": "code",
        "colab": {
          "base_uri": "https://localhost:8080/",
          "height": 36
        },
        "outputId": "3b6e93ad-2a0b-4d72-b7ce-18498fbb558e"
      },
      "cell_type": "code",
      "source": [
        "# target output column\n",
        "y = df_mp['band_gap'].values\n",
        "\n",
        "# possible descriptor columns\n",
        "X_cols = [c for c in df_mp.columns \n",
        "          if c not in ['band_gap', 'pretty_formula', \n",
        "                       'volume', 'nsites', 'spacegroup.symbol', 'e_above_hull']]\n",
        "X = df_mp.as_matrix(X_cols)\n",
        "\n",
        "print(\"Possible descriptors are: {}\".format(X_cols))"
      ],
      "execution_count": 13,
      "outputs": [
        {
          "output_type": "stream",
          "text": [
            "Possible descriptors are: ['formation_energy_per_atom', 'density', 'vpa']\n"
          ],
          "name": "stdout"
        }
      ]
    },
    {
      "metadata": {
        "id": "Nu_HwUll2H-q",
        "colab_type": "code",
        "colab": {
          "base_uri": "https://localhost:8080/",
          "height": 36
        },
        "outputId": "c768d39c-5584-483d-ef3f-22e19c44e38a"
      },
      "cell_type": "code",
      "source": [
        "# possible descriptor columns in InSb\n",
        "X_cols_insb = [c for c in df_mp.columns \n",
        "          if c not in ['band_gap', 'pretty_formula', \n",
        "                       'volume', 'nsites', 'spacegroup.symbol', 'e_above_hull']]\n",
        "X_insb = insb.as_matrix(X_cols_insb)\n",
        "\n",
        "print(\"Possible descriptors are: {}\".format(X_cols_insb))"
      ],
      "execution_count": 14,
      "outputs": [
        {
          "output_type": "stream",
          "text": [
            "Possible descriptors are: ['formation_energy_per_atom', 'density', 'vpa']\n"
          ],
          "name": "stdout"
        }
      ]
    },
    {
      "metadata": {
        "id": "6HyFQKg72Wra",
        "colab_type": "code",
        "colab": {
          "base_uri": "https://localhost:8080/",
          "height": 56
        },
        "outputId": "2553b3a7-5c03-4f7f-f928-549462885db2"
      },
      "cell_type": "code",
      "source": [
        "from sklearn.linear_model import LinearRegression\n",
        "from sklearn.metrics import mean_squared_error\n",
        "\n",
        "linear_regression = LinearRegression()\n",
        "\n",
        "linear_regression.fit(X, y)\n",
        "\n",
        "# get fit statistics\n",
        "print ('R2 = ' + str(round(linear_regression.score(X, y), 3)))\n",
        "print ('RMSE = %.3f' % np.sqrt(mean_squared_error(y_true=y, y_pred=linear_regression.predict(X))))"
      ],
      "execution_count": 15,
      "outputs": [
        {
          "output_type": "stream",
          "text": [
            "R2 = 0.463\n",
            "RMSE = 1.020\n"
          ],
          "name": "stdout"
        }
      ]
    },
    {
      "metadata": {
        "id": "R5_Lcgw04FGW",
        "colab_type": "code",
        "colab": {
          "base_uri": "https://localhost:8080/",
          "height": 313
        },
        "outputId": "7cba03b1-c834-429e-f1cd-501f3b7f6d0c"
      },
      "cell_type": "code",
      "source": [
        "fig = plt.figure()\n",
        "ax = fig.add_subplot(1,1,1)\n",
        "line1 = ax.plot(y,linear_regression.predict(X), \"r.\")\n",
        "line2 = ax.plot([0,1,2,3,4,5,6,7,8,9], \"b\")\n",
        "ax.set_xlabel('DFT band gap')\n",
        "ax.set_ylabel('Random forest band gap (eV)')\n",
        "ax.set_title('Random forest regression')"
      ],
      "execution_count": 25,
      "outputs": [
        {
          "output_type": "execute_result",
          "data": {
            "text/plain": [
              "Text(0.5,1,'Random forest regression')"
            ]
          },
          "metadata": {
            "tags": []
          },
          "execution_count": 25
        },
        {
          "output_type": "display_data",
          "data": {
            "image/png": "[encoded data removed]",
            "text/plain": [
              "<matplotlib.figure.Figure at 0x7fc10061b550>"
            ]
          },
          "metadata": {
            "tags": []
          }
        }
      ]
    },
    {
      "metadata": {
        "id": "PHBueYE42bgQ",
        "colab_type": "code",
        "colab": {
          "base_uri": "https://localhost:8080/",
          "height": 56
        },
        "outputId": "0c976e2a-a740-47a4-8dd1-a6716f2cbf97"
      },
      "cell_type": "code",
      "source": [
        "from sklearn.ensemble import RandomForestRegressor\n",
        "\n",
        "RF_rg = RandomForestRegressor(n_estimators=50, random_state=1)\n",
        "\n",
        "RF_rg.fit(X, y)\n",
        "print ('R2 = ' + str(round(RF_rg.score(X, y), 3)))\n",
        "print ('RMSE = %.3f' % np.sqrt(mean_squared_error(y_true=y, y_pred=RF_rg.predict(X))))"
      ],
      "execution_count": 35,
      "outputs": [
        {
          "output_type": "stream",
          "text": [
            "R2 = 0.975\n",
            "RMSE = 0.221\n"
          ],
          "name": "stdout"
        }
      ]
    },
    {
      "metadata": {
        "id": "bUevE0uL2duP",
        "colab_type": "code",
        "colab": {
          "base_uri": "https://localhost:8080/",
          "height": 313
        },
        "outputId": "04813c67-b8d2-4797-f386-8c7338208711"
      },
      "cell_type": "code",
      "source": [
        "fig = plt.figure()\n",
        "ax = fig.add_subplot(1,1,1)\n",
        "line1 = ax.plot(y, RF_rg.predict(X), \"r.\")\n",
        "line2 = ax.plot([0,1,2,3,4,5,6,7,8,9], \"b\")\n",
        "ax.set_xlabel('DFT band gap')\n",
        "ax.set_ylabel('Random forest band gap (eV)')\n",
        "ax.set_title('Random forest regression')\n"
      ],
      "execution_count": 19,
      "outputs": [
        {
          "output_type": "execute_result",
          "data": {
            "text/plain": [
              "Text(0.5,1,'Random forest regression')"
            ]
          },
          "metadata": {
            "tags": []
          },
          "execution_count": 19
        },
        {
          "output_type": "display_data",
          "data": {
            "image/png": "[encoded data removed]",
            "text/plain": [
              "<matplotlib.figure.Figure at 0x7fc109af9c18>"
            ]
          },
          "metadata": {
            "tags": []
          }
        }
      ]
    },
    {
      "metadata": {
        "id": "s9Ds5W9l2me4",
        "colab_type": "code",
        "colab": {
          "base_uri": "https://localhost:8080/",
          "height": 56
        },
        "outputId": "1f2e5c7a-a98a-4ba8-db6d-6b6f6ac257e0"
      },
      "cell_type": "code",
      "source": [
        "from sklearn.cross_validation import KFold, cross_val_score\n",
        "\n",
        "# Use 10-fold cross validation (90% training, 10% test)\n",
        "crossvalidation = KFold(n=X.shape[0], n_folds=10, shuffle=True, random_state=1)\n",
        "\n",
        "# compute cross validation scores for random forest model\n",
        "scores = cross_val_score(linear_regression, X, y, scoring='neg_mean_squared_error', \n",
        "                         cv=crossvalidation, n_jobs=1)\n",
        "rmse_scores = [np.sqrt(abs(s)) for s in scores]\n",
        "\n",
        "print ('Cross-validation results:')\n",
        "print ('Folds: %i, mean RMSE: %.3f' % (len(scores), np.mean(np.abs(rmse_scores))))"
      ],
      "execution_count": 20,
      "outputs": [
        {
          "output_type": "stream",
          "text": [
            "Cross-validation results:\n",
            "Folds: 10, mean RMSE: 1.020\n"
          ],
          "name": "stdout"
        }
      ]
    },
    {
      "metadata": {
        "id": "5vd8hHeg2v7z",
        "colab_type": "code",
        "colab": {
          "base_uri": "https://localhost:8080/",
          "height": 36
        },
        "outputId": "f09bcec3-9d4d-436e-fe86-0665bdf78493"
      },
      "cell_type": "code",
      "source": [
        "# Prediction Result of Band Gap in InSb\n",
        "print(\"Expected Band Gap of InSb is : {} eV\".format(RF_rg.predict(X_insb)[1]))"
      ],
      "execution_count": 24,
      "outputs": [
        {
          "output_type": "stream",
          "text": [
            "Expected Band Gap of InSb is : 0.169242 eV\n"
          ],
          "name": "stdout"
        }
      ]
    },
    {
      "metadata": {
        "id": "ozFZOUnD2_Dr",
        "colab_type": "code",
        "colab": {}
      },
      "cell_type": "code",
      "source": [
        ""
      ],
      "execution_count": 0,
      "outputs": []
    }
  ]
}